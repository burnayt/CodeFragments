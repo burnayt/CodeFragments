{
 "cells": [
  {
   "cell_type": "code",
   "execution_count": 3,
   "metadata": {},
   "outputs": [],
   "source": [
    "import statistics as s\n",
    "import correlation as cor\n",
    "\n",
    "def linreg(x,y):\n",
    "    xmean = s.mean(x)\n",
    "    ymean = s.mean(y)\n",
    "    a = 0\n",
    "    b = 0\n",
    "    ssx = 0\n",
    "    ssy = 0\n",
    "    for i,j in zip(x,y):\n",
    "        ssx += (i - xmean)**2\n",
    "        ssy += (j - ymean)**2\n",
    "    r = cor.corr(x,y)\n",
    "    b = (ssy/ssx)**0.5\n",
    "    b = b*r\n",
    "    a = ymean - b*xmean\n",
    "    return a,b\n",
    "\n",
    "    "
   ]
  },
  {
   "cell_type": "code",
   "execution_count": 4,
   "metadata": {},
   "outputs": [],
   "source": [
    "def stderror(x, y):\n",
    "    a,b = linreg(x,y)\n",
    "    sumy = 0\n",
    "    for i,j in zip(x,y):\n",
    "        ypredict = b*i+a\n",
    "        sumy += (j - ypredict)**2\n",
    "    return ( sumy / (len(x)-2) )**0.5\n",
    "        \n",
    "        "
   ]
  },
  {
   "cell_type": "code",
   "execution_count": null,
   "metadata": {},
   "outputs": [],
   "source": []
  }
 ],
 "metadata": {
  "kernelspec": {
   "display_name": "Python 2",
   "language": "python",
   "name": "python2"
  },
  "language_info": {
   "codemirror_mode": {
    "name": "ipython",
    "version": 2
   },
   "file_extension": ".py",
   "mimetype": "text/x-python",
   "name": "python",
   "nbconvert_exporter": "python",
   "pygments_lexer": "ipython2",
   "version": "2.7.6"
  }
 },
 "nbformat": 4,
 "nbformat_minor": 0
}
